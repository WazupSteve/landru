{
 "cells": [
  {
   "cell_type": "code",
   "execution_count": null,
   "metadata": {},
   "outputs": [],
   "source": [
    "from tianshou.highlevel.config import SamplingConfig\n",
    "from tianshou.highlevel.env import (\n",
    "    EnvFactoryRegistered,\n",
    "    VectorEnvType,\n",
    ")\n",
    "from tianshou.highlevel.experiment import DQNExperimentBuilder, ExperimentConfig\n",
    "from tianshou.highlevel.params.policy_params import DQNParams\n",
    "from tianshou.highlevel.trainer import (\n",
    "    EpochTestCallbackDQNSetEps,\n",
    "    EpochTrainCallbackDQNSetEps,\n",
    "    EpochStopCallbackRewardThreshold\n",
    ")"
   ]
  },
  {
   "cell_type": "code",
   "execution_count": null,
   "metadata": {},
   "outputs": [
    {
     "ename": "",
     "evalue": "",
     "output_type": "error",
     "traceback": [
      "\u001b[1;31mThe Kernel crashed while executing code in the current cell or a previous cell. \n",
      "\u001b[1;31mPlease review the code in the cell(s) to identify a possible cause of the failure. \n",
      "\u001b[1;31mClick <a href='https://aka.ms/vscodeJupyterKernelCrash'>here</a> for more info. \n",
      "\u001b[1;31mView Jupyter <a href='command:jupyter.viewOutput'>log</a> for further details."
     ]
    }
   ],
   "source": [
    "experiment = (\n",
    "    DQNExperimentBuilder(\n",
    "        EnvFactoryRegistered(task=\"CartPole-v1\", seed=0, venv_type=VectorEnvType.DUMMY),\n",
    "        ExperimentConfig(\n",
    "            persistence_enabled=False,\n",
    "            watch=True,\n",
    "            watch_render=1 / 35,\n",
    "            watch_num_episodes=100,\n",
    "        ),\n",
    "        SamplingConfig(\n",
    "            num_epochs=10,\n",
    "            step_per_epoch=10000,\n",
    "            batch_size=64,\n",
    "            num_train_envs=10,\n",
    "            num_test_envs=100,\n",
    "            buffer_size=20000,\n",
    "            step_per_collect=10,\n",
    "            update_per_step=1 / 10,\n",
    "        ),\n",
    "    )\n",
    "    .with_dqn_params(\n",
    "        DQNParams(\n",
    "            lr=1e-3,\n",
    "            discount_factor=0.9,\n",
    "            estimation_step=3,\n",
    "            target_update_freq=320,\n",
    "        ),\n",
    "    )\n",
    "    .with_model_factory_default(hidden_sizes=(64, 64))\n",
    "    .with_epoch_train_callback(EpochTrainCallbackDQNSetEps(0.3))\n",
    "    .with_epoch_test_callback(EpochTestCallbackDQNSetEps(0.0))\n",
    "    .with_epoch_stop_callback(EpochStopCallbackRewardThreshold(195))\n",
    "    .build()\n",
    ")\n",
    "experiment.run()"
   ]
  },
  {
   "cell_type": "code",
   "execution_count": null,
   "metadata": {},
   "outputs": [],
   "source": []
  }
 ],
 "metadata": {
  "kernelspec": {
   "display_name": "venv",
   "language": "python",
   "name": "python3"
  },
  "language_info": {
   "codemirror_mode": {
    "name": "ipython",
    "version": 3
   },
   "file_extension": ".py",
   "mimetype": "text/x-python",
   "name": "python",
   "nbconvert_exporter": "python",
   "pygments_lexer": "ipython3",
   "version": "3.11.7"
  }
 },
 "nbformat": 4,
 "nbformat_minor": 2
}
