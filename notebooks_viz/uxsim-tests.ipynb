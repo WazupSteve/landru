{
 "cells": [
  {
   "cell_type": "code",
   "execution_count": null,
   "metadata": {},
   "outputs": [],
   "source": [
    "from uxsim import *"
   ]
  },
  {
   "cell_type": "code",
   "execution_count": null,
   "metadata": {},
   "outputs": [],
   "source": [
    "# Define the main simulation\n",
    "# Units are standardized to seconds (s) and meters (m)\n",
    "W = World(\n",
    "    name=\"\",    # Scenario name\n",
    "    deltan=5,   # Simulation aggregation unit delta n\n",
    "    tmax=1200,  # Total simulation time (s)\n",
    "    print_mode=1, save_mode=1, show_mode=0,    # Various options\n",
    "    random_seed=0    # Set the random seed\n",
    ")"
   ]
  },
  {
   "cell_type": "code",
   "execution_count": null,
   "metadata": {},
   "outputs": [],
   "source": [
    "# Define the scenario\n",
    "W.addNode(\"orig1\", 0, 0) # Create a node\n",
    "W.addNode(\"orig2\", 0, 2)\n",
    "W.addNode(\"merge\", 1, 1)\n",
    "W.addNode(\"dest\", 2, 1)\n",
    "W.addLink(\"link1\", \"orig1\", \"merge\", length=1000, free_flow_speed=20) # Create a link\n",
    "W.addLink(\"link2\", \"orig2\", \"merge\", length=1000, free_flow_speed=20)\n",
    "W.addLink(\"link3\", \"merge\", \"dest\", length=1000, free_flow_speed=20)\n",
    "W.adddemand(\"orig1\", \"dest\", 0, 1000, 0.45) # Create OD traffic demand\n",
    "W.adddemand(\"orig2\", \"dest\", 400, 1000, 0.6)\n",
    "\n",
    "# Run the simulation to the end\n",
    "W.exec_simulation()\n",
    "\n",
    "# Print summary of simulation result\n",
    "W.analyzer.print_simple_stats()\n",
    "\n",
    "# Visualize snapshots of network traffic state for several timesteps\n",
    "W.analyzer.network(100, detailed=1, network_font_size=12)\n",
    "W.analyzer.network(600, detailed=1, network_font_size=12)\n",
    "W.analyzer.network(800, detailed=1, network_font_size=12)"
   ]
  },
  {
   "cell_type": "code",
   "execution_count": null,
   "metadata": {},
   "outputs": [],
   "source": []
  }
 ],
 "metadata": {
  "kernelspec": {
   "display_name": "Python 3",
   "language": "python",
   "name": "python3"
  },
  "language_info": {
   "codemirror_mode": {
    "name": "ipython",
    "version": 3
   },
   "file_extension": ".py",
   "mimetype": "text/x-python",
   "name": "python",
   "nbconvert_exporter": "python",
   "pygments_lexer": "ipython3",
   "version": "3.11.7"
  }
 },
 "nbformat": 4,
 "nbformat_minor": 2
}
