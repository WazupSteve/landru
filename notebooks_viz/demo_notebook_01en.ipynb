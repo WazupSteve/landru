{
 "cells": [
  {
   "cell_type": "markdown",
   "metadata": {},
   "source": [
    "# Tutorial"
   ]
  },
  {
   "cell_type": "code",
   "execution_count": null,
   "metadata": {},
   "outputs": [],
   "source": [
    "%matplotlib inline"
   ]
  },
  {
   "cell_type": "code",
   "execution_count": null,
   "metadata": {},
   "outputs": [],
   "source": [
    "%load_ext autoreload\n",
    "%autoreload 2"
   ]
  },
  {
   "cell_type": "markdown",
   "metadata": {},
   "source": [
    "## Simple Scenario Example\n",
    "\n",
    "Import the required modules."
   ]
  },
  {
   "cell_type": "code",
   "execution_count": null,
   "metadata": {
    "scrolled": false
   },
   "outputs": [],
   "source": [
    "from uxsim import *\n",
    "import pandas as pd"
   ]
  },
  {
   "cell_type": "markdown",
   "metadata": {},
   "source": [
    "### Scenario Definition\n",
    "\n",
    "First, we will define the main simulation `W`.\n",
    "The unit of time is s (seconds) and the unit of length is m."
   ]
  },
  {
   "cell_type": "code",
   "execution_count": null,
   "metadata": {
    "scrolled": true
   },
   "outputs": [],
   "source": [
    "W = World(\n",
    "    name=\"simple_demo\",    # Scenario name. Can be blank. Used as the folder name for saving results.\n",
    "    deltan=5,   # Simulation aggregation unit Δn. Defines how many vehicles are grouped together (i.e., platoon size) for computation. Computation cost is generally inversely proportional to deltan^2.\n",
    "    tmax=1200,  # Total simulation time (s)\n",
    "    print_mode=1, save_mode=1, show_mode=1,    # Various options. print_mode determines whether to print information. Usually set to 1, but recommended 0 when running multiple simulations automatically. save_mode determines if visualization results are saved. show_mode determines if visualization results are displayed. It's good to set show_mode=1 on Jupyter Notebook, otherwise recommended 0.\n",
    "    random_seed=0    # Set the random seed. Specify if you want repeatable experiments. If not, set to None. On Jupyter Notebook, randomness might not always be consistent (requires a fix).\n",
    ")"
   ]
  },
  {
   "cell_type": "markdown",
   "metadata": {},
   "source": [
    "The simulation scenario (network structure and demand) is defined.\n",
    "First, nodes are added, then links are defined to connect the nodes, and finally the traffic demand between the nodes is specified.\n",
    "In this case, we define a simple Y-shaped merging network."
   ]
  },
  {
   "cell_type": "code",
   "execution_count": null,
   "metadata": {},
   "outputs": [],
   "source": [
    "W.addNode(\"orig1\", 0, 0) #Create a node. Parameters: node name, visualization x-coordinate, visualization y-coordinate\n",
    "W.addNode(\"orig2\", 0, 2)\n",
    "W.addNode(\"merge\", 1, 1)\n",
    "W.addNode(\"dest\", 2, 1)\n",
    "\n",
    "W.addLink(\"link1\", \"orig1\", \"merge\", length=1000, free_flow_speed=20, jam_density=0.2, merge_priority=0.5) # Create a link. Parameters: link name, start node, end node, length, free_flow_speed, jam_density, merge_priority during merging\n",
    "W.addLink(\"link2\", \"orig2\", \"merge\", length=1000, free_flow_speed=20, jam_density=0.2, merge_priority=2)\n",
    "W.addLink(\"link3\", \"merge\", \"dest\", length=1000, free_flow_speed=20, jam_density=0.2)\n",
    "\n",
    "W.adddemand(\"orig1\", \"dest\", 0, 1000, 0.4) # Create OD traffic demand. Parameters: origin node, destination node, start time, end time, demand flow rate\n",
    "W.adddemand(\"orig2\", \"dest\", 500, 1000, 0.6)"
   ]
  },
  {
   "cell_type": "markdown",
   "metadata": {},
   "source": [
    "Instead of defining scenarios by hard-code, scenarios can be read from a CSV file prepared in advance, as shown below.\n",
    "```python\n",
    "W.load_scenario_from_csv(\"dat/siouxfalls_nodes.csv\", \"dat/siouxfalls_links.csv\", \"dat/siouxfalls_demand.csv\")\n",
    "```"
   ]
  },
  {
   "cell_type": "markdown",
   "metadata": {},
   "source": [
    "### Simulation Execution\n",
    "\n",
    "After defining the scenario, you can execute the simulation with `W.exec_simulation()`. This time, the simulation is run to the end. The simulation time, the number of vehicles in the network at that time, their average speed, and the computation time are displayed."
   ]
  },
  {
   "cell_type": "code",
   "execution_count": null,
   "metadata": {},
   "outputs": [],
   "source": [
    "W.exec_simulation()"
   ]
  },
  {
   "cell_type": "markdown",
   "metadata": {},
   "source": [
    "Instead of running the simulation to the end, it is possible to run it halfway and intervene in the simulation.\n",
    "For example, the following code computes the simulation for 100 seconds at a time and uses the function `hoge` to perform some intervention.\n",
    "\n",
    "```python\n",
    "while W.check_simulation_ongoing():\n",
    "    W.exec_simulation(duration_t=100)\n",
    "    hoge()\n",
    "```"
   ]
  },
  {
   "cell_type": "markdown",
   "metadata": {},
   "source": [
    "### Results\n",
    "\n",
    "The `W.analyzer` class is responsible for analyzing the results.\n",
    "\n",
    "A summary of the results can be printed below. Delay ratio is the ratio of delay time to total trip time, with a value close to zero indicating smooth traffic (when the shortest route can be traveled without congestion) and a larger value indicating congestion (when the shortest route is bypassed or congested)."
   ]
  },
  {
   "cell_type": "code",
   "execution_count": null,
   "metadata": {},
   "outputs": [],
   "source": [
    "W.analyzer.network_pillow()"
   ]
  },
  {
   "cell_type": "code",
   "execution_count": null,
   "metadata": {},
   "outputs": [],
   "source": [
    "W.analyzer.print_simple_stats()"
   ]
  },
  {
   "cell_type": "markdown",
   "metadata": {},
   "source": [
    "Simulation results can be output to pandas.DataFrame. Note that the value `-1` basically means undefined (e.g., headway when there is no vehicle in front)."
   ]
  },
  {
   "cell_type": "code",
   "execution_count": null,
   "metadata": {},
   "outputs": [],
   "source": [
    "#overall\n",
    "df = W.analyzer.basic_to_pandas()\n",
    "display(df)\n",
    "\n",
    "#OD-specific traffic situation\n",
    "df = W.analyzer.od_to_pandas()\n",
    "display(df)\n",
    "\n",
    "#MFD\n",
    "df = W.analyzer.mfd_to_pandas()\n",
    "display(df)\n",
    "\n",
    "#link-level\n",
    "df = W.analyzer.link_to_pandas()\n",
    "display(df)\n",
    "\n",
    "#within link\n",
    "df = W.analyzer.link_traffic_state_to_pandas()\n",
    "display(df)\n",
    "\n",
    "#vehicle-level\n",
    "df = W.analyzer.vehicles_to_pandas()\n",
    "display(df)"
   ]
  },
  {
   "cell_type": "markdown",
   "metadata": {},
   "source": [
    "You can also save the entire results to CSV."
   ]
  },
  {
   "cell_type": "code",
   "execution_count": null,
   "metadata": {},
   "outputs": [],
   "source": [
    "W.analyzer.output_data()"
   ]
  },
  {
   "cell_type": "markdown",
   "metadata": {},
   "source": [
    "### Visualization of Results\n",
    "\n",
    "#### Link-level\n",
    "\n",
    "Time-space diagrams (density and trajectories) of a link can be plotted as follows.\n",
    "Ones for consecutive links can also be plotted."
   ]
  },
  {
   "cell_type": "code",
   "execution_count": null,
   "metadata": {
    "scrolled": false
   },
   "outputs": [],
   "source": [
    "W.analyzer.time_space_diagram_density()\n",
    "W.analyzer.time_space_diagram_traj()\n",
    "\n",
    "W.analyzer.time_space_diagram_traj_links([[\"link1\", \"link3\"], [\"link2\", \"link3\"]])"
   ]
  },
  {
   "cell_type": "markdown",
   "metadata": {},
   "source": [
    "Cumulative curves, actual/instantanious travel times"
   ]
  },
  {
   "cell_type": "code",
   "execution_count": null,
   "metadata": {
    "scrolled": false
   },
   "outputs": [],
   "source": [
    "W.analyzer.cumulative_curves()"
   ]
  },
  {
   "cell_type": "markdown",
   "metadata": {},
   "source": [
    "#### Area/Network-level\n",
    "\n",
    "MFD"
   ]
  },
  {
   "cell_type": "code",
   "execution_count": null,
   "metadata": {},
   "outputs": [],
   "source": [
    "W.analyzer.macroscopic_fundamental_diagram()"
   ]
  },
  {
   "cell_type": "markdown",
   "metadata": {},
   "source": [
    "Snapshots of network traffic situation"
   ]
  },
  {
   "cell_type": "code",
   "execution_count": 15,
   "metadata": {},
   "outputs": [
    {
     "data": {
      "image/png": "[encoded data removed]",
      "text/plain": [
       "<Figure size 600x600 with 1 Axes>"
      ]
     },
     "metadata": {},
     "output_type": "display_data"
    },
    {
     "data": {
      "text/plain": [
       "NoneType"
      ]
     },
     "execution_count": 15,
     "metadata": {},
     "output_type": "execute_result"
    }
   ],
   "source": [
    "W.analyzer.network(W.TIME)"
   ]
  },
  {
   "cell_type": "code",
   "execution_count": null,
   "metadata": {
    "scrolled": false
   },
   "outputs": [],
   "source": [
    "for t in list(range(0,W.TMAX,int(W.TMAX/6))):\n",
    "    W.analyzer.network(t, detailed=0, network_font_size=0, figsize=(4,4))\n",
    "for t in list(range(0,W.TMAX,int(W.TMAX/6))):\n",
    "    W.analyzer.network(t, detailed=1, network_font_size=0)"
   ]
  },
  {
   "cell_type": "markdown",
   "metadata": {},
   "source": [
    "You can also create a gif animation of the traffic situation of the entire network.\n",
    "By default, you can visualize the traffic situation per link, the traffic situation per section within a link (not very clear depending on the network geometry), and the movement trajectory of some vehicles.\n",
    "The thicker the width of the link, the greater the number and density of vehicles, and the darker the color, the lower the speed.\n",
    "Note that the creation speed for large scenarios is very slow."
   ]
  },
  {
   "cell_type": "code",
   "execution_count": null,
   "metadata": {
    "scrolled": false
   },
   "outputs": [],
   "source": [
    "W.analyzer.network_anim(animation_speed_inverse=15, timestep_skip=30, detailed=0, network_font_size=1)\n",
    "W.analyzer.network_anim(detailed=1, figsize=(12,12), network_font_size=0)\n",
    "W.analyzer.network_fancy(animation_speed_inverse=15, sample_ratio=0.3, interval=3, trace_length=5, network_font_size=1)\n",
    "\n",
    "from IPython.display import display, Image\n",
    "with open(\"outsimple_demo/anim_network0.gif\", \"rb\") as f:\n",
    "    display(Image(data=f.read(), format='png'))\n",
    "with open(\"outsimple_demo/anim_network1.gif\", \"rb\") as f:\n",
    "    display(Image(data=f.read(), format='png'))\n",
    "with open(\"outsimple_demo/anim_network_fancy.gif\", \"rb\") as f:\n",
    "    display(Image(data=f.read(), format='png'))\n",
    "    "
   ]
  },
  {
   "cell_type": "markdown",
   "metadata": {},
   "source": [
    "#### Vehicle-level\n",
    "\n",
    "The driving log of a single vehicle can also be visualized. The links traveled and the speed at that time."
   ]
  },
  {
   "cell_type": "code",
   "execution_count": null,
   "metadata": {},
   "outputs": [],
   "source": [
    "W.analyzer.plot_vehicle_log(\"100\")"
   ]
  },
  {
   "cell_type": "markdown",
   "metadata": {},
   "source": [
    "## Sioux Falls Network\n",
    "\n",
    "An example with Sioux Falls network, a famous scenario for benchmarking in transportation research"
   ]
  },
  {
   "cell_type": "code",
   "execution_count": null,
   "metadata": {},
   "outputs": [],
   "source": [
    "# Simulation main\n",
    "W = World(\n",
    "    name=\"simple_demo\",\n",
    "    deltan=5,\n",
    "    tmax=7200,\n",
    "    print_mode=1, save_mode=1, show_mode=0,\n",
    "    random_seed=0\n",
    ")\n",
    "\n",
    "# Scenario definition\n",
    "#load CSV files\n",
    "W.load_scenario_from_csv(\"dat/siouxfalls_nodes.csv\", \"dat/siouxfalls_links.csv\", \"dat/siouxfalls_demand.csv\")\n",
    "\n",
    "# Simulation execution\n",
    "W.exec_simulation()\n",
    "\n",
    "# Results analysis\n",
    "W.analyzer.print_simple_stats()\n",
    "\n",
    "W.analyzer.network_anim(animation_speed_inverse=15, timestep_skip=8, detailed=0, network_font_size=0)"
   ]
  },
  {
   "cell_type": "code",
   "execution_count": null,
   "metadata": {},
   "outputs": [],
   "source": [
    "with open(\"outsimple_demo/anim_network0.gif\", \"rb\") as f:\n",
    "    display(Image(data=f.read(), format='png'))"
   ]
  },
  {
   "cell_type": "code",
   "execution_count": null,
   "metadata": {},
   "outputs": [],
   "source": []
  }
 ],
 "metadata": {
  "anaconda-cloud": {},
  "kernelspec": {
   "display_name": "Python 3 (ipykernel)",
   "language": "python",
   "name": "python3"
  },
  "language_info": {
   "codemirror_mode": {
    "name": "ipython",
    "version": 3
   },
   "file_extension": ".py",
   "mimetype": "text/x-python",
   "name": "python",
   "nbconvert_exporter": "python",
   "pygments_lexer": "ipython3",
   "version": "3.11.7"
  }
 },
 "nbformat": 4,
 "nbformat_minor": 2
}
